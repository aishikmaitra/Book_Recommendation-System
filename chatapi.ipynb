{
 "cells": [
  {
   "cell_type": "code",
   "execution_count": null,
   "metadata": {},
   "outputs": [],
   "source": [
    "import openai  # Make sure you have the OpenAI Python package installed\n",
    "\n",
    "# Set up your OpenAI API key\n",
    "api_key = open('OPENAI_API_KEY.txt').read().strip()\n",
    "\n",
    "# Define your input prompt\n",
    "input_prompt = \"Plot summary of As You Like It:\"\n",
    "\n",
    "# Set the maximum tokens for the completion\n",
    "max_tokens = 300  # You can adjust this value based on the desired length of the response\n",
    "\n",
    "# Generate text using the ChatGPT API\n",
    "response = openai.Completion.create(\n",
    "    engine=\"text-davinci-003\",  # You can experiment with different engines\n",
    "    prompt=input_prompt,\n",
    "    max_tokens=max_tokens,\n",
    "    api_key=api_key\n",
    ")\n",
    "\n",
    "# Extract the generated plot summary\n",
    "plot_summary = response.choices[0].text.strip()\n",
    "\n",
    "# Save the plot summary to a text file\n",
    "with open('chatgpt_plot.txt', 'w', encoding='utf-8') as txt_file:\n",
    "    txt_file.write(plot_summary)\n",
    "\n",
    "print(\"Plot summary generated and saved successfully.\")\n"
   ]
  }
 ],
 "metadata": {
  "language_info": {
   "name": "python"
  }
 },
 "nbformat": 4,
 "nbformat_minor": 2
}
