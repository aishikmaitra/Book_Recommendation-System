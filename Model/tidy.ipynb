{
 "cells": [
  {
   "cell_type": "code",
   "execution_count": 1,
   "metadata": {},
   "outputs": [],
   "source": [
    "import requests\n",
    "import nltk\n",
    "from nltk.tokenize import word_tokenize\n",
    "from nltk.corpus import stopwords\n",
    "from nltk.stem import WordNetLemmatizer\n",
    "from collections import Counter"
   ]
  },
  {
   "cell_type": "code",
   "execution_count": 2,
   "metadata": {},
   "outputs": [],
   "source": [
    "\n",
    "# Function to lemmatize a word using Datamuse API\n",
    "def lemmatize_word(word):\n",
    "    url = f\"https://api.datamuse.com/words?md=d&sp={word}\"\n",
    "    response = requests.get(url)\n",
    "    if response.status_code == 200:\n",
    "        data = response.json()\n",
    "        if data:\n",
    "            return data[0][\"word\"]\n",
    "    return word  # Return original word if lemmatization fails"
   ]
  },
  {
   "cell_type": "code",
   "execution_count": 3,
   "metadata": {},
   "outputs": [],
   "source": [
    "def preprocess_text_with_lemmatization(text):\n",
    "    # Tokenization\n",
    "    tokens = word_tokenize(text)\n",
    "    # Lowercasing, removing punctuation, and stopwords\n",
    "    stop_words = set(stopwords.words('english'))\n",
    "    tokens = [word.lower() for word in tokens if word.isalpha() and word.lower() not in stop_words]\n",
    "    # Lemmatization using Datamuse API\n",
    "    tokens = [lemmatize_word(word) for word in tokens]\n",
    "    return tokens"
   ]
  },
  {
   "cell_type": "code",
   "execution_count": 4,
   "metadata": {},
   "outputs": [
    {
     "name": "stdout",
     "output_type": "stream",
     "text": [
      "['boy', 'funny']\n"
     ]
    }
   ],
   "source": [
    "text = \"The boy is very funny.\"\n",
    "preprocessed_text = preprocess_text_with_lemmatization(text)\n",
    "print(preprocessed_text)"
   ]
  },
  {
   "cell_type": "code",
   "execution_count": 8,
   "metadata": {},
   "outputs": [],
   "source": [
    "def GenreFS(k):\n",
    "    genres={\n",
    "        \"action\":[\"battle\",\"fight\",\"action\"],\n",
    "        \"romance\":[\"love\",\"relationship\",\"sex\"],\n",
    "        \"horror\":[\"scare\",\"ghost\",\"paranormal\"],\n",
    "        \"comedy\":[\"funny\",\"hilarious\",\"humour\"]\n",
    "    }\n",
    "    g=[]\n",
    "    for genre,g_list in genres.items():\n",
    "        if any(keyword in g_list for keyword in k):\n",
    "            g.append(genre)\n",
    "    return g"
   ]
  },
  {
   "cell_type": "code",
   "execution_count": 9,
   "metadata": {},
   "outputs": [
    {
     "name": "stdout",
     "output_type": "stream",
     "text": [
      "The Genre is  ['comedy']\n"
     ]
    }
   ],
   "source": [
    "print(\"The Genre is \",GenreFS(preprocessed_text))"
   ]
  }
 ],
 "metadata": {
  "kernelspec": {
   "display_name": "Python 3",
   "language": "python",
   "name": "python3"
  },
  "language_info": {
   "codemirror_mode": {
    "name": "ipython",
    "version": 3
   },
   "file_extension": ".py",
   "mimetype": "text/x-python",
   "name": "python",
   "nbconvert_exporter": "python",
   "pygments_lexer": "ipython3",
   "version": "3.11.5"
  }
 },
 "nbformat": 4,
 "nbformat_minor": 2
}
